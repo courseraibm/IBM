{
 "cells": [
  {
   "cell_type": "markdown",
   "id": "2a4e03ae-36af-4124-bf54-bf3ec89f92b2",
   "metadata": {
    "execution": {
     "iopub.execute_input": "2022-01-29T14:15:02.875235Z",
     "iopub.status.busy": "2022-01-29T14:15:02.874884Z",
     "iopub.status.idle": "2022-01-29T14:15:02.882205Z",
     "shell.execute_reply": "2022-01-29T14:15:02.881439Z",
     "shell.execute_reply.started": "2022-01-29T14:15:02.875156Z"
    },
    "tags": []
   },
   "source": [
    "# MY JUYPTER NOTEBOOK "
   ]
  },
  {
   "cell_type": "markdown",
   "id": "82f1ddd5-82df-4b68-ad26-78e5ab0a5476",
   "metadata": {},
   "source": [
    "**Leonard van Stockum**"
   ]
  },
  {
   "cell_type": "markdown",
   "id": "e24c2041-f76e-4e52-bd7a-8ded6d9c2eba",
   "metadata": {},
   "source": [
    "*100% Human*"
   ]
  },
  {
   "cell_type": "markdown",
   "id": "79a15564-43a8-44d0-9790-446a74d08ddd",
   "metadata": {},
   "source": [
    "*Im intrested in data science becouse its new*"
   ]
  },
  {
   "cell_type": "markdown",
   "id": "618de261-17e8-4b3f-b59c-373621023944",
   "metadata": {},
   "source": [
    "### Print hellow world"
   ]
  },
  {
   "cell_type": "code",
   "execution_count": 10,
   "id": "ca5a3388-5359-45c6-bb0e-a5bbb59fde31",
   "metadata": {
    "execution": {
     "iopub.execute_input": "2022-01-29T14:36:50.083016Z",
     "iopub.status.busy": "2022-01-29T14:36:50.082738Z",
     "iopub.status.idle": "2022-01-29T14:36:50.086768Z",
     "shell.execute_reply": "2022-01-29T14:36:50.086136Z",
     "shell.execute_reply.started": "2022-01-29T14:36:50.082990Z"
    },
    "tags": []
   },
   "outputs": [
    {
     "name": "stdout",
     "output_type": "stream",
     "text": [
      "Hello, world!\n"
     ]
    }
   ],
   "source": [
    "print('Hello, world!')"
   ]
  },
  {
   "cell_type": "markdown",
   "id": "e327669e-f219-4f46-aecb-0ce091b3ece6",
   "metadata": {},
   "source": [
    "***\n",
    "\n",
    "* *hyperlinked words*\n",
    "* *hyperlinked words*\n",
    "* *hyperlinked words*\n",
    "* *hyperlinked words*\n",
    "\n",
    "***"
   ]
  },
  {
   "cell_type": "code",
   "execution_count": null,
   "id": "54d2114d-2a16-4ba2-b851-5cbdfcb71ed8",
   "metadata": {},
   "outputs": [],
   "source": []
  }
 ],
 "metadata": {
  "kernelspec": {
   "display_name": "saturn (Python 3)",
   "language": "python",
   "name": "python3"
  },
  "language_info": {
   "codemirror_mode": {
    "name": "ipython",
    "version": 3
   },
   "file_extension": ".py",
   "mimetype": "text/x-python",
   "name": "python",
   "nbconvert_exporter": "python",
   "pygments_lexer": "ipython3",
   "version": "3.9.9"
  },
  "toc-autonumbering": false,
  "toc-showmarkdowntxt": false
 },
 "nbformat": 4,
 "nbformat_minor": 5
}
